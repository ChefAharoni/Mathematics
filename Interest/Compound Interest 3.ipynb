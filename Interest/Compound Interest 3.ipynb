{
 "cells": [
  {
   "cell_type": "markdown",
   "source": [
    "# Compound Interest Calculator\n",
    "\n",
    "The formula used in the calculation is:\n",
    "$$ A=p\\left( 1+\\dfrac{r}{n}\\right) ^{nt} $$\n",
    "\n",
    "\n"
   ],
   "metadata": {
    "collapsed": false
   }
  },
  {
   "cell_type": "code",
   "execution_count": 6,
   "outputs": [
    {
     "name": "stdout",
     "output_type": "stream",
     "text": [
      "Error, please enter a number from 1 to 5, no special characters.\n",
      "\n",
      "Error, please enter a number from 1 to 5, no special characters.\n",
      "\n",
      "Error, please enter a number from 1 to 5, no special characters.\n",
      "\n",
      "Error, please enter a number from 1 to 5, no special characters.\n",
      "\n",
      "Error, please enter a number from 1 to 5, no special characters.\n",
      "\n",
      "Error, please enter a number from 1 to 5, no special characters.\n",
      "\n"
     ]
    },
    {
     "ename": "UnboundLocalError",
     "evalue": "local variable 'n' referenced before assignment",
     "output_type": "error",
     "traceback": [
      "\u001B[0;31m---------------------------------------------------------------------------\u001B[0m",
      "\u001B[0;31mUnboundLocalError\u001B[0m                         Traceback (most recent call last)",
      "Cell \u001B[0;32mIn [6], line 80\u001B[0m\n\u001B[1;32m     77\u001B[0m     \u001B[38;5;28mprint\u001B[39m (\u001B[38;5;124m'\u001B[39m\u001B[38;5;124mThe total amount at the end of the period is \u001B[39m\u001B[38;5;124m'\u001B[39m \u001B[38;5;241m+\u001B[39m \u001B[38;5;28mstr\u001B[39m(calc(p\u001B[38;5;241m=\u001B[39mp, r\u001B[38;5;241m=\u001B[39mr, n\u001B[38;5;241m=\u001B[39mcompound_num(), t\u001B[38;5;241m=\u001B[39mt2)) \u001B[38;5;241m+\u001B[39m \u001B[38;5;124m'\u001B[39m\u001B[38;5;124m$.\u001B[39m\u001B[38;5;124m'\u001B[39m)\n\u001B[1;32m     79\u001B[0m \u001B[38;5;28;01mif\u001B[39;00m \u001B[38;5;18m__name__\u001B[39m \u001B[38;5;241m==\u001B[39m \u001B[38;5;124m'\u001B[39m\u001B[38;5;124m__main__\u001B[39m\u001B[38;5;124m'\u001B[39m:\n\u001B[0;32m---> 80\u001B[0m     \u001B[43mmain\u001B[49m\u001B[43m(\u001B[49m\u001B[43m)\u001B[49m\n",
      "Cell \u001B[0;32mIn [6], line 56\u001B[0m, in \u001B[0;36mmain\u001B[0;34m()\u001B[0m\n\u001B[1;32m     54\u001B[0m principle \u001B[38;5;241m=\u001B[39m \u001B[38;5;28mint\u001B[39m(\u001B[38;5;28minput\u001B[39m(\u001B[38;5;124m\"\u001B[39m\u001B[38;5;124mEnter the amount invested: \u001B[39m\u001B[38;5;124m\"\u001B[39m))  \u001B[38;5;66;03m# p\u001B[39;00m\n\u001B[1;32m     55\u001B[0m rate \u001B[38;5;241m=\u001B[39m \u001B[38;5;28mfloat\u001B[39m(\u001B[38;5;28minput\u001B[39m(\u001B[38;5;124m\"\u001B[39m\u001B[38;5;124mEnter the interest rate: \u001B[39m\u001B[38;5;124m\"\u001B[39m))  \u001B[38;5;66;03m# r\u001B[39;00m\n\u001B[0;32m---> 56\u001B[0m compounded \u001B[38;5;241m=\u001B[39m \u001B[43mcompound_num\u001B[49m\u001B[43m(\u001B[49m\u001B[43m)\u001B[49m  \u001B[38;5;66;03m# n\u001B[39;00m\n\u001B[1;32m     57\u001B[0m time \u001B[38;5;241m=\u001B[39m \u001B[38;5;28mint\u001B[39m(\u001B[38;5;28minput\u001B[39m(\u001B[38;5;124m\"\u001B[39m\u001B[38;5;124mEnter the set amount of time: \u001B[39m\u001B[38;5;124m\"\u001B[39m))  \u001B[38;5;66;03m# t\u001B[39;00m\n\u001B[1;32m     59\u001B[0m amount \u001B[38;5;241m=\u001B[39m calc(p\u001B[38;5;241m=\u001B[39mprinciple, r\u001B[38;5;241m=\u001B[39mrate, n\u001B[38;5;241m=\u001B[39mcompounded, t\u001B[38;5;241m=\u001B[39mtime)  \u001B[38;5;66;03m# a\u001B[39;00m\n",
      "Cell \u001B[0;32mIn [6], line 30\u001B[0m, in \u001B[0;36mcompound_num\u001B[0;34m()\u001B[0m\n\u001B[1;32m     28\u001B[0m     \u001B[38;5;28;01mif\u001B[39;00m tries \u001B[38;5;241m>\u001B[39m \u001B[38;5;241m5\u001B[39m:\n\u001B[1;32m     29\u001B[0m         \u001B[38;5;28;01mbreak\u001B[39;00m\n\u001B[0;32m---> 30\u001B[0m \u001B[38;5;28;01mmatch\u001B[39;00m \u001B[43mn\u001B[49m:\n\u001B[1;32m     31\u001B[0m     \u001B[38;5;28;01mcase\u001B[39;00m \u001B[38;5;241m1\u001B[39m:  \u001B[38;5;66;03m# Annually\u001B[39;00m\n\u001B[1;32m     32\u001B[0m         \u001B[38;5;28;01mreturn\u001B[39;00m \u001B[38;5;241m1\u001B[39m\n\u001B[1;32m     33\u001B[0m     \u001B[38;5;28;01mcase\u001B[39;00m \u001B[38;5;241m2\u001B[39m:  \u001B[38;5;66;03m# Semiannually\u001B[39;00m\n\u001B[1;32m     34\u001B[0m         \u001B[38;5;28;01mreturn\u001B[39;00m \u001B[38;5;241m2\u001B[39m\n\u001B[1;32m     35\u001B[0m     \u001B[38;5;28;01mcase\u001B[39;00m \u001B[38;5;241m3\u001B[39m:  \u001B[38;5;66;03m# Quarterly\u001B[39;00m\n\u001B[1;32m     36\u001B[0m         \u001B[38;5;28;01mreturn\u001B[39;00m \u001B[38;5;241m4\u001B[39m\n\u001B[1;32m     37\u001B[0m     \u001B[38;5;28;01mcase\u001B[39;00m \u001B[38;5;241m4\u001B[39m:  \u001B[38;5;66;03m# Monthly\u001B[39;00m\n\u001B[1;32m     38\u001B[0m         \u001B[38;5;28;01mreturn\u001B[39;00m \u001B[38;5;241m12\u001B[39m\n\u001B[1;32m     39\u001B[0m     \u001B[38;5;28;01mcase\u001B[39;00m \u001B[38;5;241m5\u001B[39m:  \u001B[38;5;66;03m# Weekly\u001B[39;00m\n\u001B[1;32m     40\u001B[0m         \u001B[38;5;28;01mreturn\u001B[39;00m \u001B[38;5;241m52\u001B[39m\n\u001B[1;32m     41\u001B[0m     \u001B[38;5;28;01mcase\u001B[39;00m default:\n\u001B[1;32m     42\u001B[0m         \u001B[38;5;28;01mreturn\u001B[39;00m \u001B[38;5;241m0\u001B[39m\n",
      "\u001B[0;31mUnboundLocalError\u001B[0m: local variable 'n' referenced before assignment"
     ]
    }
   ],
   "source": [
    "def compound_verb (n ='Annually'):\n",
    "    n = n.lower()\n",
    "    n = n.title()\n",
    "    match n:\n",
    "        case 'Annually':\n",
    "            return 1\n",
    "        case 'Semiannually':\n",
    "            return 2\n",
    "        case 'Quarterly':\n",
    "            return 4\n",
    "        case 'Monthly':\n",
    "            return 12\n",
    "        case 'Weekly':\n",
    "            return 52\n",
    "        case default:\n",
    "            return 0\n",
    "\n",
    "def compound_num():\n",
    "    tries = 0\n",
    "    while True:\n",
    "        try:\n",
    "            n = int(input(\"Please choose the compound schedule through the numbers:\\n----------------------\\n1. Annually \\n2. Semiannually\\n3. Quarterly\\n4. Monthly\\n5. Weekly\\n \\n>> \"))\n",
    "            break\n",
    "        except ValueError:\n",
    "            # n = int(input(\"Error, please enter a number from 1 to 5, no special characters.\\n\\nPlease choose the compound schedule through the numbers:\\n----------------------\\n1. Annually \\n2. Semiannually\\n3. Quarterly\\n4. Monthly\\n5. Weekly\\n \\n>> \"))\n",
    "            print(\"Error, please enter a number from 1 to 5, no special characters.\\n\")\n",
    "        tries += 1  # Avoiding infinite loop\n",
    "        if tries > 5:\n",
    "            break\n",
    "    match n:\n",
    "        case 1:  # Annually\n",
    "            return 1\n",
    "        case 2:  # Semiannually\n",
    "            return 2\n",
    "        case 3:  # Quarterly\n",
    "            return 4\n",
    "        case 4:  # Monthly\n",
    "            return 12\n",
    "        case 5:  # Weekly\n",
    "            return 52\n",
    "        case default:\n",
    "            return 0\n",
    "\n",
    "\n",
    "def calc(p, r, n, t):\n",
    "    if n == 0:\n",
    "        return None\n",
    "    r /= 100  # Convert r from real number to percentage (6.5% to 0.065).\n",
    "    a = p * (1 + (r/n))**(n*t)\n",
    "    return a\n",
    "\n",
    "\n",
    "def main():\n",
    "    principle = int(input(\"Enter the amount invested: \"))  # p\n",
    "    rate = float(input(\"Enter the interest rate: \"))  # r\n",
    "    compounded = compound_num()  # n\n",
    "    time = int(input(\"Enter the set amount of time: \"))  # t\n",
    "\n",
    "    amount = calc(p=principle, r=rate, n=compounded, t=time)  # a\n",
    "\n",
    "    if amount is None:\n",
    "        print('Error in calculation. Please enter the numbers correctly.')\n",
    "\n",
    "    print('The total amount at the end of the period is ' + str(amount) + '$.')\n",
    "\n",
    "def test():\n",
    "    p = 100000\n",
    "    r = 6.5\n",
    "    n = 'SEMIANNUALLY'\n",
    "    n2 = 'hourly'\n",
    "    t = 4\n",
    "    t2 = 10\n",
    "\n",
    "\n",
    "    print ('The total amount at the end of the period is ' + str(calc(p=p, r=r, n=compound_num(), t=t)) + '$.')\n",
    "    print ('The total amount at the end of the period is ' + str(calc(p=p, r=r, n=compound_num(), t=t2)) + '$.')\n",
    "    print ('The total amount at the end of the period is ' + str(calc(p=p, r=r, n=compound_num(), t=t2)) + '$.')\n",
    "\n",
    "if __name__ == '__main__':\n",
    "    main()\n"
   ],
   "metadata": {
    "collapsed": false
   }
  },
  {
   "cell_type": "code",
   "execution_count": null,
   "outputs": [],
   "source": [
    "# For python versions < 3.10\n",
    "# if n == 'Annually':\n",
    "#     return 1\n",
    "# elif n == 'Semiannually':\n",
    "#     return 2\n",
    "# elif n ==  'Quarterly':\n",
    "#     return 4\n",
    "# elif n ==  'Monthly':\n",
    "#     return 12\n",
    "# elif n ==  'Weekly':\n",
    "#     return 52\n",
    "# else:\n",
    "#     return 'Error, please enter a valid compounding schedule.'"
   ],
   "metadata": {
    "collapsed": false
   }
  }
 ],
 "metadata": {
  "kernelspec": {
   "display_name": "Python 3",
   "language": "python",
   "name": "python3"
  },
  "language_info": {
   "codemirror_mode": {
    "name": "ipython",
    "version": 2
   },
   "file_extension": ".py",
   "mimetype": "text/x-python",
   "name": "python",
   "nbconvert_exporter": "python",
   "pygments_lexer": "ipython2",
   "version": "2.7.6"
  }
 },
 "nbformat": 4,
 "nbformat_minor": 0
}
